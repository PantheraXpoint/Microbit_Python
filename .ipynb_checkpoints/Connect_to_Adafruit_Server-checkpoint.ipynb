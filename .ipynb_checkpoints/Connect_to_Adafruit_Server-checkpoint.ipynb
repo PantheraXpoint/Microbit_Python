{
 "cells": [
  {
   "cell_type": "code",
   "execution_count": 6,
   "metadata": {},
   "outputs": [
    {
     "ename": "ModuleNotFoundError",
     "evalue": "No module named 'pyttsx3'",
     "output_type": "error",
     "traceback": [
      "\u001b[1;31m---------------------------------------------------------------------------\u001b[0m",
      "\u001b[1;31mModuleNotFoundError\u001b[0m                       Traceback (most recent call last)",
      "\u001b[1;32m<ipython-input-6-e3517ac09dac>\u001b[0m in \u001b[0;36m<module>\u001b[1;34m\u001b[0m\n\u001b[1;32m----> 1\u001b[1;33m \u001b[1;32mimport\u001b[0m \u001b[0mpyttsx3\u001b[0m\u001b[1;33m\u001b[0m\u001b[1;33m\u001b[0m\u001b[0m\n\u001b[0m\u001b[0;32m      2\u001b[0m \u001b[1;33m\u001b[0m\u001b[0m\n\u001b[0;32m      3\u001b[0m \u001b[0mengine\u001b[0m \u001b[1;33m=\u001b[0m \u001b[0mpyttsx3\u001b[0m \u001b[1;33m.\u001b[0m \u001b[0minit\u001b[0m \u001b[1;33m(\u001b[0m\u001b[1;33m)\u001b[0m\u001b[1;33m\u001b[0m\u001b[1;33m\u001b[0m\u001b[0m\n\u001b[0;32m      4\u001b[0m \u001b[0mengine\u001b[0m \u001b[1;33m.\u001b[0m \u001b[0msay\u001b[0m \u001b[1;33m(\u001b[0m\u001b[1;34m\"I am AI python \"\u001b[0m\u001b[1;33m)\u001b[0m\u001b[1;33m\u001b[0m\u001b[1;33m\u001b[0m\u001b[0m\n\u001b[0;32m      5\u001b[0m \u001b[0mengine\u001b[0m \u001b[1;33m.\u001b[0m \u001b[0mrunAndWait\u001b[0m \u001b[1;33m(\u001b[0m\u001b[1;33m)\u001b[0m\u001b[1;33m\u001b[0m\u001b[1;33m\u001b[0m\u001b[0m\n",
      "\u001b[1;31mModuleNotFoundError\u001b[0m: No module named 'pyttsx3'"
     ]
    }
   ],
   "source": [
    "import pyttsx3\n",
    "\n",
    "engine = pyttsx3 . init ()\n",
    "engine . say (\"I am AI python \")\n",
    "engine . runAndWait ()"
   ]
  },
  {
   "cell_type": "code",
   "execution_count": null,
   "metadata": {},
   "outputs": [],
   "source": [
    "import sys\n",
    "from Adafruit_IO import MQTTClient\n",
    "\n",
    "AIO_FEED_ID = \"IOT_LAB\"\n",
    "AIO_USERNAME = \"taunhatquang\"\n",
    "AIO_KEY = \"aio_guRX32LXb1CRtPb5gHElwyDyvgo1\"\n",
    "\n"
   ]
  },
  {
   "cell_type": "code",
   "execution_count": null,
   "metadata": {},
   "outputs": [],
   "source": [
    "def connected(client):\n",
    "    print(\"Ket noi thanh cong ...\")\n",
    "    client.subscribe(AIO_FEED_ID)\n",
    "\n",
    "def subscribe(client , userdata , mid , granted_qos):\n",
    "    print(\"Subscribe thanh cong ...\")\n",
    "\n",
    "def disconnected(client):\n",
    "    print(\"Ngat ket noi ...\")\n",
    "    sys.exit (1)\n",
    "\n",
    "def message(client , feed_id , payload):\n",
    "    print(\"Nhan du lieu: \" + payload)\n",
    "\n",
    "client = MQTTClient(AIO_USERNAME , AIO_KEY)\n",
    "client.on_connect = connected\n",
    "client.on_disconnect = disconnected\n",
    "client.on_message = message\n",
    "client.on_subscribe = subscribe\n",
    "client.connect()\n",
    "client.loop_background()\n",
    "\n",
    "while True:\n",
    "    pass"
   ]
  },
  {
   "cell_type": "code",
   "execution_count": null,
   "metadata": {},
   "outputs": [],
   "source": []
  }
 ],
 "metadata": {
  "kernelspec": {
   "display_name": "Python 3",
   "language": "python",
   "name": "python3"
  },
  "language_info": {
   "codemirror_mode": {
    "name": "ipython",
    "version": 3
   },
   "file_extension": ".py",
   "mimetype": "text/x-python",
   "name": "python",
   "nbconvert_exporter": "python",
   "pygments_lexer": "ipython3",
   "version": "3.8.5"
  }
 },
 "nbformat": 4,
 "nbformat_minor": 4
}
