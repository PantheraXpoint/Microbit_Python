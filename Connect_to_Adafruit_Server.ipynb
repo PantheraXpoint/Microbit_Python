{
 "cells": [
  {
   "cell_type": "code",
   "execution_count": 1,
   "metadata": {},
   "outputs": [],
   "source": [
    "import pyttsx3\n",
    "\n",
    "engine = pyttsx3 . init ()\n",
    "engine . say (\"I am AI python \")\n",
    "engine . runAndWait ()"
   ]
  },
  {
   "cell_type": "code",
   "execution_count": 2,
   "metadata": {},
   "outputs": [],
   "source": [
    "import sys\n",
    "from Adafruit_IO import MQTTClient\n",
    "\n",
    "AIO_FEED_ID = \"IOT_LAB\"\n",
    "AIO_USERNAME = \"taunhatquang\"\n",
    "AIO_KEY = \"aio_guRX32LXb1CRtPb5gHElwyDyvgo1\"\n",
    "\n"
   ]
  },
  {
   "cell_type": "code",
   "execution_count": null,
   "metadata": {},
   "outputs": [
    {
     "name": "stdout",
     "output_type": "stream",
     "text": [
      "Connected to Adafruit IO!\n",
      "Ket noi thanh cong ...\n",
      "Subscribe thanh cong ...\n",
      "Nhan du lieu: 1\n",
      "Nhan du lieu: 0\n",
      "Nhan du lieu: 1\n",
      "Nhan du lieu: 0\n",
      "Nhan du lieu: 1\n",
      "Nhan du lieu: 0\n"
     ]
    }
   ],
   "source": [
    "def connected(client):\n",
    "    print(\"Ket noi thanh cong ...\")\n",
    "    client.subscribe(AIO_FEED_ID)\n",
    "\n",
    "def subscribe(client , userdata , mid , granted_qos):\n",
    "    print(\"Subscribe thanh cong ...\")\n",
    "\n",
    "def disconnected(client):\n",
    "    print(\"Ngat ket noi ...\")\n",
    "    sys.exit (1)\n",
    "\n",
    "def message(client , feed_id , payload):\n",
    "    print(\"Nhan du lieu: \" + payload)\n",
    "\n",
    "client = MQTTClient(AIO_USERNAME , AIO_KEY)\n",
    "client.on_connect = connected\n",
    "client.on_disconnect = disconnected\n",
    "client.on_message = message\n",
    "client.on_subscribe = subscribe\n",
    "client.connect()\n",
    "client.loop_background()\n",
    "\n",
    "while True:\n",
    "    pass"
   ]
  },
  {
   "cell_type": "code",
   "execution_count": null,
   "metadata": {},
   "outputs": [],
   "source": []
  }
 ],
 "metadata": {
  "kernelspec": {
   "display_name": "Python 3",
   "language": "python",
   "name": "python3"
  },
  "language_info": {
   "codemirror_mode": {
    "name": "ipython",
    "version": 3
   },
   "file_extension": ".py",
   "mimetype": "text/x-python",
   "name": "python",
   "nbconvert_exporter": "python",
   "pygments_lexer": "ipython3",
   "version": "3.8.5"
  }
 },
 "nbformat": 4,
 "nbformat_minor": 4
}
